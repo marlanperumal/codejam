{
 "cells": [
  {
   "cell_type": "code",
   "execution_count": 1,
   "metadata": {},
   "outputs": [],
   "source": [
    "input_file = \"waffle_choppers.sample.in\""
   ]
  },
  {
   "cell_type": "code",
   "execution_count": 2,
   "metadata": {},
   "outputs": [],
   "source": [
    "original_input = input"
   ]
  },
  {
   "cell_type": "code",
   "execution_count": 3,
   "metadata": {},
   "outputs": [],
   "source": [
    "def input_from_file(filename):\n",
    "    for line in open(filename):\n",
    "        yield line.strip()"
   ]
  },
  {
   "cell_type": "code",
   "execution_count": 4,
   "metadata": {},
   "outputs": [],
   "source": [
    "file_input = input_from_file(input_file)\n",
    "input = lambda: next(file_input)"
   ]
  },
  {
   "cell_type": "code",
   "execution_count": 6,
   "metadata": {},
   "outputs": [
    {
     "name": "stdout",
     "output_type": "stream",
     "text": [
      "Case #1: POSSIBLE\n",
      "Case #2: IMPOSSIBLE\n",
      "Case #3: POSSIBLE\n",
      "Case #4: IMPOSSIBLE\n",
      "Case #5: POSSIBLE\n",
      "Case #6: IMPOSSIBLE\n",
      "Case #7: IMPOSSIBLE\n"
     ]
    }
   ],
   "source": [
    "T = int(input())\n",
    "\n",
    "for t in range(1, T + 1):\n",
    "    R, C, H, V = [int(i) for i in input().split()]\n",
    "    grid = [\n",
    "        [1 if c == '@' else 0 for c in input()] for r in range(R)\n",
    "    ]\n",
    "    total_chips = sum([sum(row) for row in grid])\n",
    "    chips_per_vertical = total_chips / (V + 1)\n",
    "    chips_per_horizontal = total_chips / (H + 1)\n",
    "    chips_per_piece = total_chips / (V + 1) / (H + 1)\n",
    "\n",
    "    if total_chips == 0:\n",
    "        result = \"POSSIBLE\"\n",
    "    elif int(chips_per_piece) != chips_per_piece:\n",
    "        result = \"IMPOSSIBLE\"\n",
    "    else:\n",
    "        h_cuts = [0]\n",
    "        v_cuts = [0]\n",
    "        complete_rows = 0\n",
    "        row_count = 0\n",
    "        for r, row in enumerate(grid):\n",
    "            row_count += sum(row)\n",
    "            if row_count == chips_per_horizontal:\n",
    "                complete_rows += 1\n",
    "                row_count = 0\n",
    "                h_cuts.append(r + 1)\n",
    "            elif row_count > chips_per_horizontal:\n",
    "                break\n",
    "        complete_cols = 0\n",
    "        col_count = 0\n",
    "        for c in range(C):\n",
    "            col_count += sum([row[c] for row in grid])\n",
    "            if col_count == chips_per_vertical:\n",
    "                complete_cols += 1\n",
    "                col_count = 0\n",
    "                v_cuts.append(c + 1)\n",
    "            elif col_count > chips_per_vertical:\n",
    "                break\n",
    "        if complete_rows != H + 1 or complete_cols != V + 1:\n",
    "            result = \"IMPOSSIBLE\"\n",
    "        else:\n",
    "            possible = True\n",
    "            for r in range(H):\n",
    "                if not possible:\n",
    "                    break\n",
    "                for c in range(V):\n",
    "                    chips = sum([sum(row[v_cuts[c]:v_cuts[c+1]]) \n",
    "                        for row in grid[h_cuts[r]:h_cuts[r+1]]])\n",
    "                    if chips != chips_per_piece:\n",
    "                        possible = False\n",
    "                        break\n",
    "            if not possible:\n",
    "                result = \"IMPOSSIBLE\"\n",
    "            else:\n",
    "                result = \"POSSIBLE\"\n",
    "\n",
    "    print(\"Case #{t}: {result}\".format(t=t, result=result))"
   ]
  },
  {
   "cell_type": "code",
   "execution_count": null,
   "metadata": {},
   "outputs": [],
   "source": []
  }
 ],
 "metadata": {
  "kernelspec": {
   "display_name": "Python 3",
   "language": "python",
   "name": "python3"
  },
  "language_info": {
   "codemirror_mode": {
    "name": "ipython",
    "version": 3
   },
   "file_extension": ".py",
   "mimetype": "text/x-python",
   "name": "python",
   "nbconvert_exporter": "python",
   "pygments_lexer": "ipython3",
   "version": "3.6.7"
  }
 },
 "nbformat": 4,
 "nbformat_minor": 2
}
