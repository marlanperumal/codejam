{
 "cells": [
  {
   "cell_type": "markdown",
   "metadata": {},
   "source": [
    "# Codejam Jupyter Notebook Template"
   ]
  },
  {
   "cell_type": "markdown",
   "metadata": {},
   "source": [
    "This template allows for interactive prototyping for coding competitions. The `input` function is redefined to read in from a specified file. Additional function code snippets are also defined as required. If these are used, care must be taken to ensure these are copied into the final submission file along with any required imports."
   ]
  },
  {
   "cell_type": "code",
   "execution_count": 1,
   "metadata": {},
   "outputs": [],
   "source": [
    "original_input = input"
   ]
  },
  {
   "cell_type": "markdown",
   "metadata": {},
   "source": [
    "First let's store the original input function so we can use it later if we need"
   ]
  },
  {
   "cell_type": "markdown",
   "metadata": {},
   "source": [
    "## Helper Functions"
   ]
  },
  {
   "cell_type": "markdown",
   "metadata": {},
   "source": [
    "### Iteration Functions"
   ]
  },
  {
   "cell_type": "code",
   "execution_count": 2,
   "metadata": {},
   "outputs": [],
   "source": [
    "from itertools import islice, chain, count, groupby, repeat, starmap, takewhile\n",
    "from itertools import tee, zip_longest, cycle, filterfalse, combinations\n",
    "from collections import deque\n",
    "from operator import mul, itemgetter\n",
    "import random\n",
    "\n",
    "\n",
    "def take(n, iterable):\n",
    "    \"Return first n items of the iterable as a list\"\n",
    "    return list(islice(iterable, n))\n",
    "\n",
    "\n",
    "def take_less_than(n, iterable):\n",
    "    return list(takewhile(lambda x: x < n, iterable))\n",
    "\n",
    "\n",
    "def prepend(value, iterator):\n",
    "    \"Prepend a single value in front of an iterator\"\n",
    "    # prepend(1, [2, 3, 4]) -> 1 2 3 4\n",
    "    return chain([value], iterator)\n",
    "\n",
    "\n",
    "def tabulate(function, start=0):\n",
    "    \"Return function(0), function(1), ...\"\n",
    "    return map(function, count(start))\n",
    "\n",
    "\n",
    "def tail(n, iterable):\n",
    "    \"Return an iterator over the last n items\"\n",
    "    # tail(3, 'ABCDEFG') --> E F G\n",
    "    return iter(deque(iterable, maxlen=n))\n",
    "\n",
    "\n",
    "def consume(iterator, n=None):\n",
    "    \"Advance the iterator n-steps ahead. If n is None, consume entirely.\"\n",
    "    # Use functions that consume iterators at C speed.\n",
    "    if n is None:\n",
    "        # feed the entire iterator into a zero-length deque\n",
    "        deque(iterator, maxlen=0)\n",
    "    else:\n",
    "        # advance to the empty slice starting at position n\n",
    "        next(islice(iterator, n, n), None)\n",
    "\n",
    "\n",
    "def nth(iterable, n, default=None):\n",
    "    \"Returns the nth item or a default value\"\n",
    "    return next(islice(iterable, n, None), default)\n",
    "\n",
    "\n",
    "def all_equal(iterable):\n",
    "    \"Returns True if all the elements are equal to each other\"\n",
    "    g = groupby(iterable)\n",
    "    return next(g, True) and not next(g, False)\n",
    "\n",
    "\n",
    "def quantify(iterable, pred=bool):\n",
    "    \"Count how many times the predicate is true\"\n",
    "    return sum(map(pred, iterable))\n",
    "\n",
    "\n",
    "def padnone(iterable):\n",
    "    \"\"\"Returns the sequence elements and then returns None indefinitely.\n",
    "\n",
    "    Useful for emulating the behavior of the built-in map() function.\n",
    "    \"\"\"\n",
    "    return chain(iterable, repeat(None))\n",
    "\n",
    "\n",
    "def ncycles(iterable, n):\n",
    "    \"Returns the sequence elements n times\"\n",
    "    return chain.from_iterable(repeat(tuple(iterable), n))\n",
    "\n",
    "\n",
    "def dotproduct(vec1, vec2):\n",
    "    return sum(map(mul, vec1, vec2))\n",
    "\n",
    "\n",
    "def flatten(listOfLists):\n",
    "    \"Flatten one level of nesting\"\n",
    "    return chain.from_iterable(listOfLists)\n",
    "\n",
    "\n",
    "def repeatfunc(func, times=None, *args):\n",
    "    \"\"\"Repeat calls to func with specified arguments.\n",
    "\n",
    "    Example:  repeatfunc(random.random)\n",
    "    \"\"\"\n",
    "    if times is None:\n",
    "        return starmap(func, repeat(args))\n",
    "    return starmap(func, repeat(args, times))\n",
    "\n",
    "\n",
    "def pairwise(iterable):\n",
    "    \"s -> (s0,s1), (s1,s2), (s2, s3), ...\"\n",
    "    a, b = tee(iterable)\n",
    "    next(b, None)\n",
    "    return zip(a, b)\n",
    "\n",
    "\n",
    "def grouper(iterable, n, fillvalue=None):\n",
    "    \"Collect data into fixed-length chunks or blocks\"\n",
    "    # grouper('ABCDEFG', 3, 'x') --> ABC DEF Gxx\"\n",
    "    args = [iter(iterable)] * n\n",
    "    return zip_longest(*args, fillvalue=fillvalue)\n",
    "\n",
    "\n",
    "def roundrobin(*iterables):\n",
    "    \"roundrobin('ABC', 'D', 'EF') --> A D E B F C\"\n",
    "    # Recipe credited to George Sakkis\n",
    "    num_active = len(iterables)\n",
    "    nexts = cycle(iter(it).__next__ for it in iterables)\n",
    "    while num_active:\n",
    "        try:\n",
    "            for next in nexts:\n",
    "                yield next()\n",
    "        except StopIteration:\n",
    "            # Remove the iterator we just exhausted from the cycle.\n",
    "            num_active -= 1\n",
    "            nexts = cycle(islice(nexts, num_active))\n",
    "\n",
    "\n",
    "def partition(pred, iterable):\n",
    "    'Use a predicate to partition entries into false entries and true entries'\n",
    "    # partition(is_odd, range(10)) --> 0 2 4 6 8   and  1 3 5 7 9\n",
    "    t1, t2 = tee(iterable)\n",
    "    return filterfalse(pred, t1), filter(pred, t2)\n",
    "\n",
    "\n",
    "def powerset(iterable):\n",
    "    \"powerset([1,2,3]) --> () (1,) (2,) (3,) (1,2) (1,3) (2,3) (1,2,3)\"\n",
    "    s = list(iterable)\n",
    "    return chain.from_iterable(combinations(s, r) for r in range(len(s) + 1))\n",
    "\n",
    "\n",
    "def unique_everseen(iterable, key=None):\n",
    "    \"List unique elements, preserving order. Remember all elements ever seen.\"\n",
    "    # unique_everseen('AAAABBBCCDAABBB') --> A B C D\n",
    "    # unique_everseen('ABBCcAD', str.lower) --> A B C D\n",
    "    seen = set()\n",
    "    seen_add = seen.add\n",
    "    if key is None:\n",
    "        for element in filterfalse(seen.__contains__, iterable):\n",
    "            seen_add(element)\n",
    "            yield element\n",
    "    else:\n",
    "        for element in iterable:\n",
    "            k = key(element)\n",
    "            if k not in seen:\n",
    "                seen_add(k)\n",
    "                yield element\n",
    "\n",
    "\n",
    "def unique_justseen(iterable, key=None):\n",
    "    \"List unique elements, preserving order. Remember only the element just seen.\"\n",
    "    # unique_justseen('AAAABBBCCDAABBB') --> A B C D A B\n",
    "    # unique_justseen('ABBCcAD', str.lower) --> A B C A D\n",
    "    return map(next, map(itemgetter(1), groupby(iterable, key)))\n",
    "\n",
    "\n",
    "def iter_except(func, exception, first=None):\n",
    "    \"\"\" Call a function repeatedly until an exception is raised.\n",
    "\n",
    "    Converts a call-until-exception interface to an iterator interface.\n",
    "    Like builtins.iter(func, sentinel) but uses an exception instead\n",
    "    of a sentinel to end the loop.\n",
    "\n",
    "    Examples:\n",
    "        iter_except(functools.partial(heappop, h), IndexError)   # priority queue iterator\n",
    "        iter_except(d.popitem, KeyError)                         # non-blocking dict iterator\n",
    "        iter_except(d.popleft, IndexError)                       # non-blocking deque iterator\n",
    "        iter_except(q.get_nowait, Queue.Empty)                   # loop over a producer Queue\n",
    "        iter_except(s.pop, KeyError)                             # non-blocking set iterator\n",
    "\n",
    "    \"\"\"\n",
    "    try:\n",
    "        if first is not None:\n",
    "            yield first()            # For database APIs needing an initial cast to db.first()\n",
    "        while True:\n",
    "            yield func()\n",
    "    except exception:\n",
    "        pass\n",
    "\n",
    "\n",
    "def first_true(iterable, default=False, pred=None):\n",
    "    \"\"\"Returns the first true value in the iterable.\n",
    "\n",
    "    If no true value is found, returns *default*\n",
    "\n",
    "    If *pred* is not None, returns the first item\n",
    "    for which pred(item) is true.\n",
    "\n",
    "    \"\"\"\n",
    "    # first_true([a,b,c], x) --> a or b or c or x\n",
    "    # first_true([a,b], x, f) --> a if f(a) else b if f(b) else x\n",
    "    return next(filter(pred, iterable), default)\n",
    "\n",
    "\n",
    "def random_product(*args, repeat=1):\n",
    "    \"Random selection from itertools.product(*args, **kwds)\"\n",
    "    pools = [tuple(pool) for pool in args] * repeat\n",
    "    return tuple(random.choice(pool) for pool in pools)\n",
    "\n",
    "\n",
    "def random_permutation(iterable, r=None):\n",
    "    \"Random selection from itertools.permutations(iterable, r)\"\n",
    "    pool = tuple(iterable)\n",
    "    r = len(pool) if r is None else r\n",
    "    return tuple(random.sample(pool, r))\n",
    "\n",
    "\n",
    "def random_combination(iterable, r):\n",
    "    \"Random selection from itertools.combinations(iterable, r)\"\n",
    "    pool = tuple(iterable)\n",
    "    n = len(pool)\n",
    "    indices = sorted(random.sample(range(n), r))\n",
    "    return tuple(pool[i] for i in indices)\n",
    "\n",
    "\n",
    "def random_combination_with_replacement(iterable, r):\n",
    "    \"Random selection from itertools.combinations_with_replacement(iterable, r)\"\n",
    "    pool = tuple(iterable)\n",
    "    n = len(pool)\n",
    "    indices = sorted(random.randrange(n) for i in range(r))\n",
    "    return tuple(pool[i] for i in indices)\n",
    "\n",
    "\n",
    "def nth_combination(iterable, r, index):\n",
    "    'Equivalent to list(combinations(iterable, r))[index]'\n",
    "    pool = tuple(iterable)\n",
    "    n = len(pool)\n",
    "    if r < 0 or r > n:\n",
    "        raise ValueError\n",
    "    c = 1\n",
    "    k = min(r, n - r)\n",
    "    for i in range(1, k + 1):\n",
    "        c = c * (n - k + i) // i\n",
    "    if index < 0:\n",
    "        index += c\n",
    "    if index < 0 or index >= c:\n",
    "        raise IndexError\n",
    "    result = []\n",
    "    while r:\n",
    "        c, n, r = c * r // n, n - 1, r - 1\n",
    "        while index >= c:\n",
    "            index -= c\n",
    "            c, n = c * (n - r) // n, n - 1\n",
    "        result.append(pool[-1 - n])\n",
    "    return tuple(result)\n"
   ]
  },
  {
   "cell_type": "markdown",
   "metadata": {},
   "source": [
    "### Primes"
   ]
  },
  {
   "cell_type": "code",
   "execution_count": 3,
   "metadata": {},
   "outputs": [],
   "source": [
    "from collections import defaultdict\n",
    "\n",
    "\n",
    "def primes():\n",
    "    yield 2\n",
    "\n",
    "    composites = defaultdict(list)\n",
    "    i = 1\n",
    "    while True:\n",
    "        i += 2\n",
    "        if i in composites:\n",
    "            composite = composites.pop(i)\n",
    "            for j in composite:\n",
    "                composites[i + 2 * j].append(j)\n",
    "        else:\n",
    "            composites[3 * i].append(i)\n",
    "            yield i"
   ]
  },
  {
   "cell_type": "code",
   "execution_count": 4,
   "metadata": {},
   "outputs": [],
   "source": [
    "from itertools import product\n",
    "from functools import reduce\n",
    "from operator import mul\n",
    "\n",
    "\n",
    "def factors(n, prime_list=None):\n",
    "    if n < 1:\n",
    "        raise ValueError\n",
    "    factor_dict = defaultdict(int)\n",
    "    if prime_list is None:\n",
    "        prime_list = primes()\n",
    "\n",
    "    for p in prime_list:\n",
    "        while n % p == 0:\n",
    "            n /= p\n",
    "            factor_dict[p] += 1\n",
    "        if n == 1:\n",
    "            break\n",
    "    factor_list = []\n",
    "\n",
    "    for powers in product(*[list(range(j + 1)) for j in factor_dict.values()]):\n",
    "        factor_list.append(reduce(mul, [p**powers[i] for i, p in enumerate(factor_dict)], 1))\n",
    "\n",
    "    return sorted(factor_list)"
   ]
  },
  {
   "cell_type": "code",
   "execution_count": 5,
   "metadata": {},
   "outputs": [],
   "source": [
    "from collections import defaultdict\n",
    "\n",
    "\n",
    "def prime_factors(n, prime_list=None):\n",
    "    if n < 2:\n",
    "        raise ValueError\n",
    "    factor_dict = defaultdict(int)\n",
    "    if prime_list is None:\n",
    "        prime_list = primes()\n",
    "\n",
    "    for p in prime_list:\n",
    "        while n % p == 0:\n",
    "            n /= p\n",
    "            factor_dict[p] += 1\n",
    "        if n == 1:\n",
    "            break\n",
    "\n",
    "    return factor_dict"
   ]
  },
  {
   "cell_type": "code",
   "execution_count": 6,
   "metadata": {},
   "outputs": [],
   "source": [
    "def is_prime(n, prime_list=None, prime_set=None):\n",
    "    if n < 2:\n",
    "        return False\n",
    "    if prime_set is not None and n in prime_set:\n",
    "        return True\n",
    "    if prime_list is None:\n",
    "        prime_list = primes()\n",
    "    for p in prime_list:\n",
    "        if p * p > n:\n",
    "            break\n",
    "        if n % p == 0:\n",
    "            return False\n",
    "    return True"
   ]
  },
  {
   "cell_type": "code",
   "execution_count": 7,
   "metadata": {},
   "outputs": [],
   "source": [
    "def gcd(a, b):\n",
    "    # implements Euclid's algorithm\n",
    "    if b > a:\n",
    "        a, b = b, a\n",
    "    q = int(a // b)\n",
    "    r = a - q * b\n",
    "    while r != 0:\n",
    "        a, b = b, r\n",
    "        q = int(a // b)\n",
    "        r = a - q * b\n",
    "    return int(b)"
   ]
  },
  {
   "cell_type": "code",
   "execution_count": 8,
   "metadata": {},
   "outputs": [],
   "source": [
    "def is_coprime(j, k):\n",
    "    return gcd(j, k) == 1"
   ]
  },
  {
   "cell_type": "code",
   "execution_count": 9,
   "metadata": {},
   "outputs": [],
   "source": [
    "from functools import reduce\n",
    "\n",
    "\n",
    "def chinese_remainder(D, Y):\n",
    "    # Returns the value x (mod M) such that when x is divided by any di in\n",
    "    # the list of coprime integers D the remainder is the corresponding yi in\n",
    "    # the list of remainders Y. M is the product of the Ds.\n",
    "\n",
    "    M = reduce(lambda x, y: x * y, D, 1)\n",
    "    B = [int(M / d) for d in D]\n",
    "    A = []\n",
    "    for d, b in zip(D, B):\n",
    "        for a in range(1, d):\n",
    "            if a * b % d == 1:\n",
    "                A.append(a)\n",
    "                break\n",
    "\n",
    "    x = sum([a * b * y for a, b, y in zip(A, B, Y)])\n",
    "    return x % M"
   ]
  },
  {
   "cell_type": "markdown",
   "metadata": {},
   "source": [
    "## Input redirection"
   ]
  },
  {
   "cell_type": "markdown",
   "metadata": {},
   "source": [
    "Run this if you want to use the original input"
   ]
  },
  {
   "cell_type": "code",
   "execution_count": 10,
   "metadata": {},
   "outputs": [],
   "source": [
    "input = original_input"
   ]
  },
  {
   "cell_type": "markdown",
   "metadata": {},
   "source": [
    "Otherwise set input to redirect to an input file"
   ]
  },
  {
   "cell_type": "code",
   "execution_count": 11,
   "metadata": {},
   "outputs": [],
   "source": [
    "def input_from_file(filename):\n",
    "    for line in open(filename):\n",
    "        yield line.strip()"
   ]
  },
  {
   "cell_type": "markdown",
   "metadata": {},
   "source": [
    "Run this again to reset the file"
   ]
  },
  {
   "cell_type": "code",
   "execution_count": 81,
   "metadata": {},
   "outputs": [],
   "source": [
    "input_file = \"edgy_baking.sample.in\""
   ]
  },
  {
   "cell_type": "code",
   "execution_count": 82,
   "metadata": {},
   "outputs": [],
   "source": [
    "file_input = input_from_file(input_file)\n",
    "input = lambda: next(file_input)"
   ]
  },
  {
   "cell_type": "markdown",
   "metadata": {},
   "source": [
    "## Start coding here"
   ]
  },
  {
   "cell_type": "markdown",
   "metadata": {},
   "source": [
    "Place any import statements you need here"
   ]
  },
  {
   "cell_type": "code",
   "execution_count": 83,
   "metadata": {},
   "outputs": [],
   "source": [
    "from math import sqrt"
   ]
  },
  {
   "cell_type": "markdown",
   "metadata": {},
   "source": [
    "Define any helper functions you need here"
   ]
  },
  {
   "cell_type": "code",
   "execution_count": null,
   "metadata": {},
   "outputs": [],
   "source": []
  },
  {
   "cell_type": "markdown",
   "metadata": {},
   "source": [
    "Define the main function you're going to use here"
   ]
  },
  {
   "cell_type": "code",
   "execution_count": 84,
   "metadata": {},
   "outputs": [],
   "source": [
    "def run(cookies, p):\n",
    "    # This will probably require some input arguments\n",
    "    W = [cookie[0] for cookie in cookies]\n",
    "    H = [cookie[1] for cookie in cookies]\n",
    "    original_perimeter = sum([2*(w + h) for w, h in zip(W, H)])\n",
    "    target_additional = p - original_perimeter\n",
    "    upper_bound = sum([2*sqrt(w**2 + h**2) for w, h in zip(W, H)])\n",
    "    lower_bound = 0\n",
    "    intervals = []\n",
    "    previous_interval = [0, 0]\n",
    "    for w, h in zip(W, H):\n",
    "        new_interval = [previous_interval[0] + 2*w, previous_interval[1] + 2*sqrt(w**2 + h**2)]\n",
    "        if target_additional < new_interval[0]:\n",
    "            upper_bound = new_interval[0]\n",
    "            break\n",
    "        elif target_additional <= new_interval[1]:\n",
    "            upper_bound = target_additional\n",
    "            lower_bound = target_additional\n",
    "            break\n",
    "        else:\n",
    "            lower_bound = new_interval[1]\n",
    "            \n",
    "        intervals.append(new_interval)\n",
    "        previous_interval = new_interval\n",
    "    if target_additional - lower_bound < upper_bound - target_additional:\n",
    "        return original_perimeter + lower_bound\n",
    "    else:\n",
    "        return original_perimeter + upper_bound"
   ]
  },
  {
   "cell_type": "markdown",
   "metadata": {},
   "source": [
    "Use this as the main body function to run"
   ]
  },
  {
   "cell_type": "code",
   "execution_count": 85,
   "metadata": {},
   "outputs": [
    {
     "name": "stdout",
     "output_type": "stream",
     "text": [
      "Case #1: 6.82842712474619\n",
      "Case #2: 920\n",
      "Case #3: 32\n",
      "Case #4: 240\n"
     ]
    }
   ],
   "source": [
    "T = int(input())\n",
    "for t in range(1, T + 1):\n",
    "    # There will probably be some additional inputs\n",
    "    N, P = [int(i) for i in input().split()]\n",
    "    cookies = [[int(i) for i in input().split()] for n in range(N)]\n",
    "    cookies = [[w, h] if w < h else [h, w] for w, h in cookies]\n",
    "    result = run(cookies, P)\n",
    "    print(\"Case #{}: {}\".format(t, result))"
   ]
  },
  {
   "cell_type": "markdown",
   "metadata": {},
   "source": [
    "## Prep solution file"
   ]
  },
  {
   "cell_type": "markdown",
   "metadata": {},
   "source": [
    "- Grab any helper functions and import statements that you need\n",
    "- Stick the main body function inside an `if __name__ == \"__main__\":` block\n",
    "- This will allow importing the individual functions from the solution file"
   ]
  },
  {
   "cell_type": "markdown",
   "metadata": {},
   "source": [
    "## Sandbox"
   ]
  },
  {
   "cell_type": "code",
   "execution_count": 14,
   "metadata": {},
   "outputs": [],
   "source": [
    "N = 2\n",
    "P = 920"
   ]
  },
  {
   "cell_type": "code",
   "execution_count": 15,
   "metadata": {},
   "outputs": [],
   "source": [
    "W = 50\n",
    "H = 120"
   ]
  },
  {
   "cell_type": "code",
   "execution_count": 16,
   "metadata": {},
   "outputs": [],
   "source": [
    "if W > H:\n",
    "    W, H = H, W"
   ]
  },
  {
   "cell_type": "code",
   "execution_count": 26,
   "metadata": {},
   "outputs": [],
   "source": [
    "original_perimeter = (W + H)*2*2"
   ]
  },
  {
   "cell_type": "code",
   "execution_count": 27,
   "metadata": {},
   "outputs": [
    {
     "data": {
      "text/plain": [
       "680"
      ]
     },
     "execution_count": 27,
     "metadata": {},
     "output_type": "execute_result"
    }
   ],
   "source": [
    "original_perimeter"
   ]
  },
  {
   "cell_type": "code",
   "execution_count": 28,
   "metadata": {},
   "outputs": [],
   "source": [
    "target_additional = P - original_perimeter"
   ]
  },
  {
   "cell_type": "code",
   "execution_count": 29,
   "metadata": {},
   "outputs": [
    {
     "data": {
      "text/plain": [
       "240"
      ]
     },
     "execution_count": 29,
     "metadata": {},
     "output_type": "execute_result"
    }
   ],
   "source": [
    "target_additional"
   ]
  },
  {
   "cell_type": "code",
   "execution_count": 30,
   "metadata": {},
   "outputs": [],
   "source": [
    "from math import sqrt"
   ]
  },
  {
   "cell_type": "code",
   "execution_count": 31,
   "metadata": {},
   "outputs": [],
   "source": [
    "min_edge = 2 * W\n",
    "max_edge = 2 * sqrt(W**2 + H**2)"
   ]
  },
  {
   "cell_type": "code",
   "execution_count": 32,
   "metadata": {},
   "outputs": [
    {
     "data": {
      "text/plain": [
       "(100, 260.0)"
      ]
     },
     "execution_count": 32,
     "metadata": {},
     "output_type": "execute_result"
    }
   ],
   "source": [
    "min_edge, max_edge"
   ]
  },
  {
   "cell_type": "code",
   "execution_count": 33,
   "metadata": {},
   "outputs": [],
   "source": [
    "intervals = [[min_edge, max_edge], [2*min_edge, 2*max_edge]]"
   ]
  },
  {
   "cell_type": "code",
   "execution_count": 34,
   "metadata": {},
   "outputs": [
    {
     "data": {
      "text/plain": [
       "[[100, 260.0], [200, 520.0]]"
      ]
     },
     "execution_count": 34,
     "metadata": {},
     "output_type": "execute_result"
    }
   ],
   "source": [
    "intervals"
   ]
  },
  {
   "cell_type": "code",
   "execution_count": null,
   "metadata": {},
   "outputs": [],
   "source": [
    "for interval in intervals"
   ]
  }
 ],
 "metadata": {
  "kernelspec": {
   "display_name": "Python 3",
   "language": "python",
   "name": "python3"
  },
  "language_info": {
   "codemirror_mode": {
    "name": "ipython",
    "version": 3
   },
   "file_extension": ".py",
   "mimetype": "text/x-python",
   "name": "python",
   "nbconvert_exporter": "python",
   "pygments_lexer": "ipython3",
   "version": "3.6.7"
  }
 },
 "nbformat": 4,
 "nbformat_minor": 2
}
