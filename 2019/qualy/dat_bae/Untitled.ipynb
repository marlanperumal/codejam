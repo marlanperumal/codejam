{
 "cells": [
  {
   "cell_type": "code",
   "execution_count": 1,
   "metadata": {},
   "outputs": [],
   "source": [
    "bits = [1, 1, 0, 1, 1, 0, 1, 1]"
   ]
  },
  {
   "cell_type": "code",
   "execution_count": 2,
   "metadata": {},
   "outputs": [],
   "source": [
    "class BitArray():\n",
    "    def __init__(self, start, stop, num_broken):\n",
    "        self.start = start\n",
    "        self.stop = stop\n",
    "        self.num_broken = num_broken\n",
    "        self.children = []"
   ]
  },
  {
   "cell_type": "code",
   "execution_count": 4,
   "metadata": {},
   "outputs": [],
   "source": [
    "root = BitArray(0, 8, 2)"
   ]
  },
  {
   "cell_type": "code",
   "execution_count": null,
   "metadata": {},
   "outputs": [],
   "source": [
    "midpoint = (root.stop + root.start)/2\n",
    "left_child = BitArray(root.start, midpoint, "
   ]
  },
  {
   "cell_type": "code",
   "execution_count": 7,
   "metadata": {},
   "outputs": [],
   "source": [
    "def partition(s):\n",
    "    partitions = []\n",
    "    if len(s) == 0:\n",
    "        return partitions\n",
    "    current_partition = s[0]\n",
    "    for c in s:\n",
    "        if c != current_partition[0]:\n",
    "            partitions.append(current_partition)\n",
    "            current_partition = c\n",
    "        else:\n",
    "            current_partition += c\n",
    "    partitions.append(current_partition)\n",
    "    return partitions"
   ]
  },
  {
   "cell_type": "code",
   "execution_count": 8,
   "metadata": {},
   "outputs": [
    {
     "data": {
      "text/plain": [
       "['11111', '0000', '111', '00', '1', '0', '1', '0', '1', '00', '1', '0', '11']"
      ]
     },
     "execution_count": 8,
     "metadata": {},
     "output_type": "execute_result"
    }
   ],
   "source": [
    "partition(\"111100001110010101001011\")"
   ]
  },
  {
   "cell_type": "code",
   "execution_count": null,
   "metadata": {},
   "outputs": [],
   "source": []
  }
 ],
 "metadata": {
  "kernelspec": {
   "display_name": "Python 3",
   "language": "python",
   "name": "python3"
  },
  "language_info": {
   "codemirror_mode": {
    "name": "ipython",
    "version": 3
   },
   "file_extension": ".py",
   "mimetype": "text/x-python",
   "name": "python",
   "nbconvert_exporter": "python",
   "pygments_lexer": "ipython3",
   "version": "3.6.7"
  }
 },
 "nbformat": 4,
 "nbformat_minor": 2
}
