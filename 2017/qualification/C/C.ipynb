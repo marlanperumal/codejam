{
 "cells": [
  {
   "cell_type": "code",
   "execution_count": 6,
   "metadata": {
    "collapsed": true
   },
   "outputs": [],
   "source": [
    "from heapq import heappush, heappop"
   ]
  },
  {
   "cell_type": "code",
   "execution_count": 10,
   "metadata": {
    "collapsed": false
   },
   "outputs": [],
   "source": [
    "n = 1000000"
   ]
  },
  {
   "cell_type": "code",
   "execution_count": 11,
   "metadata": {
    "collapsed": false
   },
   "outputs": [],
   "source": [
    "k = 1000000"
   ]
  },
  {
   "cell_type": "code",
   "execution_count": 107,
   "metadata": {
    "collapsed": false
   },
   "outputs": [],
   "source": [
    "class Stall():\n",
    "    def __init__(self, pos, n):\n",
    "        self.pos = pos\n",
    "        self.rpos = n - pos - 1\n",
    "        self.occupied = False\n",
    "        self.L = 0\n",
    "        self.R = 0\n",
    "        self.max_LR = 0\n",
    "        self.min_LR = 0\n",
    "        \n",
    "    @property\n",
    "    def open(self):\n",
    "        return 1 if not self.occupied else 0\n",
    "        \n",
    "    def __repr__(self):\n",
    "        return str(self.pos)"
   ]
  },
  {
   "cell_type": "code",
   "execution_count": 8,
   "metadata": {
    "collapsed": false,
    "scrolled": true
   },
   "outputs": [
    {
     "name": "stdout",
     "output_type": "stream",
     "text": [
      "Num stalls: 100\n",
      "100 50 49\n",
      "100 25 24\n",
      "100 24 24\n",
      "100 12 12\n",
      "100 12 11\n",
      "100 12 11\n",
      "100 12 11\n",
      "100 6 5\n",
      "100 6 5\n",
      "100 6 5\n",
      "100 6 5\n",
      "100 6 5\n",
      "100 5 5\n",
      "100 5 5\n",
      "100 5 5\n",
      "100 3 2\n",
      "100 3 2\n",
      "100 3 2\n",
      "100 3 2\n",
      "100 3 2\n",
      "100 2 2\n",
      "100 2 2\n",
      "100 2 2\n",
      "100 2 2\n",
      "100 2 2\n",
      "100 2 2\n",
      "100 2 2\n",
      "100 2 2\n",
      "100 2 2\n",
      "100 2 2\n",
      "100 2 2\n",
      "100 1 1\n",
      "100 1 1\n",
      "100 1 1\n",
      "100 1 1\n",
      "100 1 1\n",
      "100 1 0\n",
      "100 1 0\n",
      "100 1 0\n",
      "100 1 0\n",
      "100 1 0\n",
      "100 1 0\n",
      "100 1 0\n",
      "100 1 0\n",
      "100 1 0\n",
      "100 1 0\n",
      "100 1 0\n",
      "100 1 0\n",
      "100 1 0\n",
      "100 1 0\n",
      "100 1 0\n",
      "100 1 0\n",
      "100 1 0\n",
      "100 1 0\n",
      "100 1 0\n",
      "100 1 0\n",
      "100 1 0\n",
      "100 1 0\n",
      "100 1 0\n",
      "100 1 0\n",
      "100 1 0\n",
      "100 1 0\n",
      "100 1 0\n",
      "100 0 0\n",
      "100 0 0\n",
      "100 0 0\n",
      "100 0 0\n",
      "100 0 0\n",
      "100 0 0\n",
      "100 0 0\n",
      "100 0 0\n",
      "100 0 0\n",
      "100 0 0\n",
      "100 0 0\n",
      "100 0 0\n",
      "100 0 0\n",
      "100 0 0\n",
      "100 0 0\n",
      "100 0 0\n",
      "100 0 0\n",
      "100 0 0\n",
      "100 0 0\n",
      "100 0 0\n",
      "100 0 0\n",
      "100 0 0\n",
      "100 0 0\n",
      "100 0 0\n",
      "100 0 0\n",
      "100 0 0\n",
      "100 0 0\n",
      "100 0 0\n",
      "100 0 0\n",
      "100 0 0\n",
      "100 0 0\n",
      "100 0 0\n",
      "100 0 0\n",
      "100 0 0\n",
      "100 0 0\n",
      "100 0 0\n",
      "100 0 0\n"
     ]
    }
   ],
   "source": [
    "stall_sets = []\n",
    "heappush(stall_sets,-n)\n",
    "print(\"Num stalls:\", n)\n",
    "for i in range(k):\n",
    "    stall_set = -heappop(stall_sets)\n",
    "    stall_set -= 1\n",
    "    l = stall_set // 2\n",
    "    r = l + stall_set % 2\n",
    "    if r > 0:\n",
    "        heappush(stall_sets,-r)\n",
    "    if l > 0:\n",
    "        heappush(stall_sets,-l)\n",
    "    print(k, r, l)"
   ]
  },
  {
   "cell_type": "code",
   "execution_count": 12,
   "metadata": {
    "collapsed": false,
    "scrolled": true
   },
   "outputs": [
    {
     "name": "stdout",
     "output_type": "stream",
     "text": [
      "1000000 1 1 500000 499999\n",
      "1000000 2 1 250000 249999\n",
      "1000000 3 1 249999 249999\n",
      "1000000 4 1 125000 124999\n",
      "1000000 7 3 124999 124999\n",
      "1000000 8 1 62500 62499\n",
      "1000000 15 7 62499 62499\n",
      "1000000 16 1 31250 31249\n",
      "1000000 31 15 31249 31249\n",
      "1000000 32 1 15625 15624\n",
      "1000000 63 31 15624 15624\n",
      "1000000 64 1 7812 7812\n",
      "1000000 127 63 7812 7811\n",
      "1000000 192 65 3906 3905\n",
      "1000000 255 63 3905 3905\n",
      "1000000 320 65 1953 1952\n",
      "1000000 511 191 1952 1952\n",
      "1000000 576 65 976 976\n",
      "1000000 1023 447 976 975\n",
      "1000000 1600 577 488 487\n",
      "1000000 2047 447 487 487\n",
      "1000000 2624 577 244 243\n",
      "1000000 4095 1471 243 243\n",
      "1000000 4672 577 122 121\n",
      "1000000 8191 3519 121 121\n",
      "1000000 8768 577 61 60\n",
      "1000000 16383 7615 60 60\n",
      "1000000 16960 577 30 30\n",
      "1000000 32767 15807 30 29\n",
      "1000000 49728 16961 15 14\n",
      "1000000 65535 15807 14 14\n",
      "1000000 82496 16961 7 7\n",
      "1000000 131071 48575 7 6\n",
      "1000000 213568 82497 3 3\n",
      "1000000 262143 48575 3 2\n",
      "1000000 475712 213569 1 1\n",
      "1000000 524287 48575 1 0\n",
      "1000000 1000000 475713 0 0\n"
     ]
    }
   ],
   "source": [
    "stall_sets = []\n",
    "stall_set_sizes = {}\n",
    "heappush(stall_sets, -n)\n",
    "stall_set_sizes[n] = 1\n",
    "i = 0\n",
    "while i < k:\n",
    "    stall_set = -heappop(stall_sets)\n",
    "    stall_set_size = stall_set_sizes.pop(stall_set)\n",
    "    stall_set -= 1\n",
    "    l = stall_set // 2\n",
    "    r = l + stall_set % 2\n",
    "    if r > 0:\n",
    "        if r in stall_set_sizes:\n",
    "            stall_set_sizes[r] += stall_set_size\n",
    "        else:\n",
    "            heappush(stall_sets, -r)\n",
    "            stall_set_sizes[r] = stall_set_size\n",
    "    if l > 0:\n",
    "        if l in stall_set_sizes:\n",
    "            stall_set_sizes[l] += stall_set_size\n",
    "        else:\n",
    "            heappush(stall_sets, -l)\n",
    "            stall_set_sizes[l] = stall_set_size\n",
    "    i += stall_set_size\n",
    "    print(k, i, stall_set_size, r, l)"
   ]
  },
  {
   "cell_type": "code",
   "execution_count": null,
   "metadata": {
    "collapsed": true
   },
   "outputs": [],
   "source": []
  }
 ],
 "metadata": {
  "kernelspec": {
   "display_name": "Python 3",
   "language": "python",
   "name": "python3"
  },
  "language_info": {
   "codemirror_mode": {
    "name": "ipython",
    "version": 3
   },
   "file_extension": ".py",
   "mimetype": "text/x-python",
   "name": "python",
   "nbconvert_exporter": "python",
   "pygments_lexer": "ipython3",
   "version": "3.5.2"
  }
 },
 "nbformat": 4,
 "nbformat_minor": 1
}
