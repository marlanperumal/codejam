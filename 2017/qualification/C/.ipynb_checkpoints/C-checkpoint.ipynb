{
 "cells": [
  {
   "cell_type": "code",
   "execution_count": 38,
   "metadata": {
    "collapsed": true
   },
   "outputs": [],
   "source": [
    "from operator import attrgetter"
   ]
  },
  {
   "cell_type": "code",
   "execution_count": 18,
   "metadata": {
    "collapsed": false
   },
   "outputs": [],
   "source": [
    "n = 15"
   ]
  },
  {
   "cell_type": "code",
   "execution_count": 19,
   "metadata": {
    "collapsed": false
   },
   "outputs": [],
   "source": [
    "k = 15"
   ]
  },
  {
   "cell_type": "code",
   "execution_count": 22,
   "metadata": {
    "collapsed": false
   },
   "outputs": [],
   "source": [
    "stalls = [False]*n"
   ]
  },
  {
   "cell_type": "code",
   "execution_count": 23,
   "metadata": {
    "collapsed": false
   },
   "outputs": [
    {
     "data": {
      "text/plain": [
       "[False,\n",
       " False,\n",
       " False,\n",
       " False,\n",
       " False,\n",
       " False,\n",
       " False,\n",
       " False,\n",
       " False,\n",
       " False,\n",
       " False,\n",
       " False,\n",
       " False,\n",
       " False,\n",
       " False]"
      ]
     },
     "execution_count": 23,
     "metadata": {},
     "output_type": "execute_result"
    }
   ],
   "source": [
    "stalls"
   ]
  },
  {
   "cell_type": "code",
   "execution_count": 24,
   "metadata": {
    "collapsed": true
   },
   "outputs": [],
   "source": [
    "empties = [n]\n",
    "L = [0]*n\n",
    "R = [0]*n"
   ]
  },
  {
   "cell_type": "code",
   "execution_count": 31,
   "metadata": {
    "collapsed": false
   },
   "outputs": [],
   "source": [
    "class Stall():\n",
    "    def __init__(self, pos, n):\n",
    "        self.pos = pos\n",
    "        self.rpos = n - pos - 1\n",
    "        self.occupied = False\n",
    "        self.L = 0\n",
    "        self.R = 0\n",
    "        self.max_LR = 0\n",
    "        self.min_LR = 0\n",
    "        \n",
    "    def __repr__(self):\n",
    "        return str(self.pos)"
   ]
  },
  {
   "cell_type": "code",
   "execution_count": 32,
   "metadata": {
    "collapsed": false
   },
   "outputs": [],
   "source": [
    "stalls = [Stall(i, n) for i in range(n)]"
   ]
  },
  {
   "cell_type": "code",
   "execution_count": 39,
   "metadata": {
    "collapsed": false
   },
   "outputs": [
    {
     "name": "stdout",
     "output_type": "stream",
     "text": [
      "15 "
     ]
    },
    {
     "ename": "TypeError",
     "evalue": "__str__ returned non-string (type int)",
     "output_type": "error",
     "traceback": [
      "\u001b[0;31m---------------------------------------------------------------------------\u001b[0m",
      "\u001b[0;31mTypeError\u001b[0m                                 Traceback (most recent call last)",
      "\u001b[0;32m<ipython-input-39-9cea8b0d520e>\u001b[0m in \u001b[0;36m<module>\u001b[0;34m()\u001b[0m\n\u001b[1;32m     21\u001b[0m     \u001b[0mselected_stall\u001b[0m \u001b[0;34m=\u001b[0m \u001b[0msorted_stalls\u001b[0m\u001b[0;34m[\u001b[0m\u001b[0;36m0\u001b[0m\u001b[0;34m]\u001b[0m\u001b[0;34m\u001b[0m\u001b[0m\n\u001b[1;32m     22\u001b[0m     \u001b[0mselected_stall\u001b[0m\u001b[0;34m.\u001b[0m\u001b[0moccupied\u001b[0m \u001b[0;34m=\u001b[0m \u001b[0;32mTrue\u001b[0m\u001b[0;34m\u001b[0m\u001b[0m\n\u001b[0;32m---> 23\u001b[0;31m     \u001b[0mprint\u001b[0m\u001b[0;34m(\u001b[0m\u001b[0mk\u001b[0m\u001b[0;34m,\u001b[0m \u001b[0mselected_stall\u001b[0m\u001b[0;34m)\u001b[0m\u001b[0;34m\u001b[0m\u001b[0m\n\u001b[0m\u001b[1;32m     24\u001b[0m     \u001b[0mprint\u001b[0m\u001b[0;34m(\u001b[0m\u001b[0;34m[\u001b[0m\u001b[0mstall\u001b[0m\u001b[0;34m.\u001b[0m\u001b[0mpos\u001b[0m \u001b[0;32mfor\u001b[0m \u001b[0mstall\u001b[0m \u001b[0;32min\u001b[0m \u001b[0mstalls\u001b[0m\u001b[0;34m]\u001b[0m\u001b[0;34m)\u001b[0m\u001b[0;34m\u001b[0m\u001b[0m\n\u001b[1;32m     25\u001b[0m     \u001b[0mprint\u001b[0m\u001b[0;34m(\u001b[0m\u001b[0;34m[\u001b[0m\u001b[0;36m1\u001b[0m \u001b[0;32mif\u001b[0m \u001b[0mstall\u001b[0m\u001b[0;34m.\u001b[0m\u001b[0moccupied\u001b[0m \u001b[0;32melse\u001b[0m \u001b[0;36m0\u001b[0m \u001b[0;32mfor\u001b[0m \u001b[0mstall\u001b[0m \u001b[0;32min\u001b[0m \u001b[0mstalls\u001b[0m\u001b[0;34m]\u001b[0m\u001b[0;34m)\u001b[0m\u001b[0;34m\u001b[0m\u001b[0m\n",
      "\u001b[0;31mTypeError\u001b[0m: __str__ returned non-string (type int)"
     ]
    }
   ],
   "source": [
    "for i in range(k):\n",
    "    last_left = -1\n",
    "    last_right = n\n",
    "    for stall in stalls:\n",
    "        if not stall.occupied:\n",
    "            stall.L = stall.pos - last_left - 1\n",
    "        else:\n",
    "            stall.L = 0\n",
    "            last_left = stall.pos\n",
    "    for stall in reversed(stalls):\n",
    "        if not stall.occupied:\n",
    "            stall.R = last_right - stall.rpos - 1\n",
    "        else:\n",
    "            stall.R = 0\n",
    "            last_right = stall.pos\n",
    "    for stall in stalls:\n",
    "        stall.min_LR = min(stall.L, stall.R)\n",
    "        stall.max_LR = max(stall.L, stall.R)\n",
    "    \n",
    "    sorted_stalls = sorted(stalls, key=attrgetter('min_LR', 'max_LR', 'rpos'), reverse=True)\n",
    "    selected_stall = sorted_stalls[0]\n",
    "    selected_stall.occupied = True\n",
    "    print(k, selected_stall)\n",
    "    print([stall.pos for stall in stalls])\n",
    "    print([1 if stall.occupied else 0 for stall in stalls])\n",
    "    print([stall.L for stall in stalls])\n",
    "    print([stall.R for stall in stalls])\n",
    "    print([stall.min_LR for stall in stalls])\n",
    "    print([stall.max_LR for stall in stalls])\n",
    "    print(sorted_stalls)   "
   ]
  },
  {
   "cell_type": "code",
   "execution_count": null,
   "metadata": {
    "collapsed": true
   },
   "outputs": [],
   "source": []
  }
 ],
 "metadata": {
  "kernelspec": {
   "display_name": "Python 3",
   "language": "python",
   "name": "python3"
  },
  "language_info": {
   "codemirror_mode": {
    "name": "ipython",
    "version": 3
   },
   "file_extension": ".py",
   "mimetype": "text/x-python",
   "name": "python",
   "nbconvert_exporter": "python",
   "pygments_lexer": "ipython3",
   "version": "3.5.2"
  }
 },
 "nbformat": 4,
 "nbformat_minor": 1
}
