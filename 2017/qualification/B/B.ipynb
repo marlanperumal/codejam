{
 "cells": [
  {
   "cell_type": "code",
   "execution_count": 8,
   "metadata": {
    "collapsed": true
   },
   "outputs": [],
   "source": [
    "n = \"1000100\""
   ]
  },
  {
   "cell_type": "code",
   "execution_count": 9,
   "metadata": {
    "collapsed": false
   },
   "outputs": [
    {
     "name": "stdout",
     "output_type": "stream",
     "text": [
      "1000109\n",
      "1000199\n",
      "1000999\n",
      "1009999\n",
      "1099999\n",
      "1999999\n"
     ]
    }
   ],
   "source": [
    "N = len(n)\n",
    "i = 1\n",
    "while i < N: \n",
    "    if n[-i] == \"0\" or n[-i] < n[-i-1]: \n",
    "        n = n[:-i] + \"9\"*(i)\n",
    "        print(n)\n",
    "        j = i + 1\n",
    "        c = n[-j]\n",
    "        while c == \"0\":\n",
    "            n = n[:-j] + \"9\"*(j)\n",
    "            print(n)\n",
    "            j = j + 1\n",
    "            c = n[-j]\n",
    "        n = n[:-j] + str(int(c)-1) + n[N-j+1:]\n",
    "        if n[0] == \"0\":\n",
    "            n = n[1:]\n",
    "            N -= 1\n",
    "    i += 1"
   ]
  },
  {
   "cell_type": "code",
   "execution_count": 10,
   "metadata": {
    "collapsed": false
   },
   "outputs": [
    {
     "data": {
      "text/plain": [
       "'999999'"
      ]
     },
     "execution_count": 10,
     "metadata": {},
     "output_type": "execute_result"
    }
   ],
   "source": [
    "n"
   ]
  },
  {
   "cell_type": "code",
   "execution_count": 103,
   "metadata": {
    "collapsed": false
   },
   "outputs": [
    {
     "data": {
      "text/plain": [
       "'999'"
      ]
     },
     "execution_count": 103,
     "metadata": {},
     "output_type": "execute_result"
    }
   ],
   "source": [
    "n"
   ]
  },
  {
   "cell_type": "code",
   "execution_count": 2,
   "metadata": {
    "collapsed": false
   },
   "outputs": [
    {
     "data": {
      "text/plain": [
       "''"
      ]
     },
     "execution_count": 2,
     "metadata": {},
     "output_type": "execute_result"
    }
   ],
   "source": [
    "\"s\"*0"
   ]
  },
  {
   "cell_type": "code",
   "execution_count": null,
   "metadata": {
    "collapsed": true
   },
   "outputs": [],
   "source": []
  }
 ],
 "metadata": {
  "kernelspec": {
   "display_name": "Python 3",
   "language": "python",
   "name": "python3"
  },
  "language_info": {
   "codemirror_mode": {
    "name": "ipython",
    "version": 3
   },
   "file_extension": ".py",
   "mimetype": "text/x-python",
   "name": "python",
   "nbconvert_exporter": "python",
   "pygments_lexer": "ipython3",
   "version": "3.5.2"
  }
 },
 "nbformat": 4,
 "nbformat_minor": 1
}
